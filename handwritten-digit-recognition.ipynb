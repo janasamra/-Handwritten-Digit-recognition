{
 "cells": [
  {
   "cell_type": "markdown",
   "id": "a9917d3c",
   "metadata": {
    "papermill": {
     "duration": 0.005892,
     "end_time": "2023-11-06T19:48:27.256274",
     "exception": false,
     "start_time": "2023-11-06T19:48:27.250382",
     "status": "completed"
    },
    "tags": []
   },
   "source": [
    "#  Handwritten Digit recognition"
   ]
  },
  {
   "cell_type": "markdown",
   "id": "bec4b0fe",
   "metadata": {
    "papermill": {
     "duration": 0.005132,
     "end_time": "2023-11-06T19:48:27.267008",
     "exception": false,
     "start_time": "2023-11-06T19:48:27.261876",
     "status": "completed"
    },
    "tags": []
   },
   "source": [
    "### Importing Libraries "
   ]
  },
  {
   "cell_type": "code",
   "execution_count": 1,
   "id": "fc7fe043",
   "metadata": {
    "execution": {
     "iopub.execute_input": "2023-11-06T19:48:27.280009Z",
     "iopub.status.busy": "2023-11-06T19:48:27.279234Z",
     "iopub.status.idle": "2023-11-06T19:48:37.523798Z",
     "shell.execute_reply": "2023-11-06T19:48:37.522695Z"
    },
    "papermill": {
     "duration": 10.254104,
     "end_time": "2023-11-06T19:48:37.526522",
     "exception": false,
     "start_time": "2023-11-06T19:48:27.272418",
     "status": "completed"
    },
    "tags": []
   },
   "outputs": [],
   "source": [
    "# Import necessary librariesr for data preprocessing and exploration\n",
    "import pandas as pd\n",
    "import numpy as np\n",
    "import seaborn as sns\n",
    "import matplotlib.pyplot as plt\n",
    "%matplotlib inline\n",
    "import tensorflow as tf\n",
    "import warnings\n",
    "warnings.filterwarnings('ignore')\n",
    "# Importing ImageDataGenerator for data augmentation\n",
    "from tensorflow.keras.preprocessing.image import ImageDataGenerator\n",
    "# Importing train_test_split for splitting the data into training and validation sets\n",
    "from sklearn.model_selection import train_test_split\n",
    "# Importing train_test_split for splitting the data into training and validation sets\n",
    "from tensorflow.keras.models import Sequential\n",
    "from tensorflow.keras.layers import Conv2D, MaxPooling2D, Dropout, Flatten, Dense, Activation\n",
    "from keras.callbacks import EarlyStopping, ReduceLROnPlateau"
   ]
  },
  {
   "cell_type": "markdown",
   "id": "57f95432",
   "metadata": {
    "papermill": {
     "duration": 0.005622,
     "end_time": "2023-11-06T19:48:37.537682",
     "exception": false,
     "start_time": "2023-11-06T19:48:37.532060",
     "status": "completed"
    },
    "tags": []
   },
   "source": [
    "### Reading and Exploring the Data"
   ]
  },
  {
   "cell_type": "code",
   "execution_count": 2,
   "id": "9383a6d0",
   "metadata": {
    "execution": {
     "iopub.execute_input": "2023-11-06T19:48:37.550823Z",
     "iopub.status.busy": "2023-11-06T19:48:37.550074Z",
     "iopub.status.idle": "2023-11-06T19:48:42.960190Z",
     "shell.execute_reply": "2023-11-06T19:48:42.959140Z"
    },
    "papermill": {
     "duration": 5.419463,
     "end_time": "2023-11-06T19:48:42.962722",
     "exception": false,
     "start_time": "2023-11-06T19:48:37.543259",
     "status": "completed"
    },
    "tags": []
   },
   "outputs": [],
   "source": [
    "# Load the data\n",
    "train = pd.read_csv(\"/kaggle/input/digit-recognizer/train.csv\")\n",
    "test = pd.read_csv(\"/kaggle/input/digit-recognizer/test.csv\")"
   ]
  },
  {
   "cell_type": "code",
   "execution_count": 3,
   "id": "309923d3",
   "metadata": {
    "execution": {
     "iopub.execute_input": "2023-11-06T19:48:42.975921Z",
     "iopub.status.busy": "2023-11-06T19:48:42.975539Z",
     "iopub.status.idle": "2023-11-06T19:48:43.099899Z",
     "shell.execute_reply": "2023-11-06T19:48:43.098779Z"
    },
    "papermill": {
     "duration": 0.133625,
     "end_time": "2023-11-06T19:48:43.102350",
     "exception": false,
     "start_time": "2023-11-06T19:48:42.968725",
     "status": "completed"
    },
    "tags": []
   },
   "outputs": [],
   "source": [
    "x_train = train.drop(labels = [\"label\"],axis = 1) \n",
    "y_train = train[\"label\"]"
   ]
  },
  {
   "cell_type": "code",
   "execution_count": 4,
   "id": "ed1b7527",
   "metadata": {
    "execution": {
     "iopub.execute_input": "2023-11-06T19:48:43.115587Z",
     "iopub.status.busy": "2023-11-06T19:48:43.115019Z",
     "iopub.status.idle": "2023-11-06T19:48:43.133645Z",
     "shell.execute_reply": "2023-11-06T19:48:43.132443Z"
    },
    "papermill": {
     "duration": 0.028297,
     "end_time": "2023-11-06T19:48:43.136166",
     "exception": false,
     "start_time": "2023-11-06T19:48:43.107869",
     "status": "completed"
    },
    "tags": []
   },
   "outputs": [
    {
     "name": "stdout",
     "output_type": "stream",
     "text": [
      "Number of classes= 10\n",
      "Classes we have:-  [0 1 2 3 4 5 6 7 8 9]\n"
     ]
    },
    {
     "data": {
      "text/plain": [
       "label\n",
       "1    4684\n",
       "7    4401\n",
       "3    4351\n",
       "9    4188\n",
       "2    4177\n",
       "6    4137\n",
       "0    4132\n",
       "4    4072\n",
       "8    4063\n",
       "5    3795\n",
       "Name: count, dtype: int64"
      ]
     },
     "execution_count": 4,
     "metadata": {},
     "output_type": "execute_result"
    }
   ],
   "source": [
    "#number of classes\n",
    "print('Number of classes=',y_train.nunique())\n",
    "#names of classes\n",
    "class_names=np.unique(y_train)\n",
    "print('Classes we have:- ', class_names)\n",
    "#number of samples in each class\n",
    "y_train.value_counts()"
   ]
  },
  {
   "cell_type": "code",
   "execution_count": 5,
   "id": "8958b4b2",
   "metadata": {
    "execution": {
     "iopub.execute_input": "2023-11-06T19:48:43.148635Z",
     "iopub.status.busy": "2023-11-06T19:48:43.148288Z",
     "iopub.status.idle": "2023-11-06T19:48:43.525563Z",
     "shell.execute_reply": "2023-11-06T19:48:43.524278Z"
    },
    "papermill": {
     "duration": 0.386342,
     "end_time": "2023-11-06T19:48:43.528036",
     "exception": false,
     "start_time": "2023-11-06T19:48:43.141694",
     "status": "completed"
    },
    "tags": []
   },
   "outputs": [
    {
     "data": {
      "text/plain": [
       "Text(0.5, 1.0, 'Class Distribution')"
      ]
     },
     "execution_count": 5,
     "metadata": {},
     "output_type": "execute_result"
    },
    {
     "data": {
      "image/png": "[encoded data removed]",
      "text/plain": [
       "<Figure size 900x900 with 1 Axes>"
      ]
     },
     "metadata": {},
     "output_type": "display_data"
    }
   ],
   "source": [
    "#this fig shows the distibution of classes\n",
    "fig=plt.figure(figsize=(9,9))\n",
    "sns.countplot(x=y_train,data=x_train)\n",
    "plt.xlabel('Samples Count')\n",
    "plt.ylabel('Class')\n",
    "plt.title('Class Distribution')"
   ]
  },
  {
   "cell_type": "code",
   "execution_count": 6,
   "id": "aaa045cf",
   "metadata": {
    "execution": {
     "iopub.execute_input": "2023-11-06T19:48:43.542330Z",
     "iopub.status.busy": "2023-11-06T19:48:43.541852Z",
     "iopub.status.idle": "2023-11-06T19:48:43.653556Z",
     "shell.execute_reply": "2023-11-06T19:48:43.652198Z"
    },
    "papermill": {
     "duration": 0.122435,
     "end_time": "2023-11-06T19:48:43.656703",
     "exception": false,
     "start_time": "2023-11-06T19:48:43.534268",
     "status": "completed"
    },
    "tags": []
   },
   "outputs": [],
   "source": [
    "# Normalize the data as cnn works better with [0,1] \n",
    "x_train = x_train / 255.0\n",
    "test = test / 255.0\n",
    "# Reshape image in 3 dimensions and let it be grayscale \n",
    "x_train = x_train.values.reshape(-1,28,28,1)\n",
    "test = test.values.reshape(-1,28,28,1)"
   ]
  },
  {
   "cell_type": "code",
   "execution_count": 7,
   "id": "2ade92c6",
   "metadata": {
    "execution": {
     "iopub.execute_input": "2023-11-06T19:48:43.671380Z",
     "iopub.status.busy": "2023-11-06T19:48:43.670981Z",
     "iopub.status.idle": "2023-11-06T19:48:43.677552Z",
     "shell.execute_reply": "2023-11-06T19:48:43.676444Z"
    },
    "papermill": {
     "duration": 0.01744,
     "end_time": "2023-11-06T19:48:43.680498",
     "exception": false,
     "start_time": "2023-11-06T19:48:43.663058",
     "status": "completed"
    },
    "tags": []
   },
   "outputs": [],
   "source": [
    "#convert labels using one_hot encoder\n",
    "from keras.utils.np_utils import to_categorical # convert to one-hot-encoding\n",
    "y_train = to_categorical(y_train, num_classes = 10)"
   ]
  },
  {
   "cell_type": "code",
   "execution_count": 8,
   "id": "b0cb495d",
   "metadata": {
    "execution": {
     "iopub.execute_input": "2023-11-06T19:48:43.694445Z",
     "iopub.status.busy": "2023-11-06T19:48:43.693836Z",
     "iopub.status.idle": "2023-11-06T19:48:44.092775Z",
     "shell.execute_reply": "2023-11-06T19:48:44.091878Z"
    },
    "papermill": {
     "duration": 0.40925,
     "end_time": "2023-11-06T19:48:44.095863",
     "exception": false,
     "start_time": "2023-11-06T19:48:43.686613",
     "status": "completed"
    },
    "tags": []
   },
   "outputs": [],
   "source": [
    "# Split the train and the validation set for the fitting\n",
    "x_train, x_val, y_train, y_val = train_test_split(x_train, y_train, test_size = 0.2, random_state=42)"
   ]
  },
  {
   "cell_type": "code",
   "execution_count": 9,
   "id": "ef28f41f",
   "metadata": {
    "execution": {
     "iopub.execute_input": "2023-11-06T19:48:44.121539Z",
     "iopub.status.busy": "2023-11-06T19:48:44.121071Z",
     "iopub.status.idle": "2023-11-06T19:48:44.344215Z",
     "shell.execute_reply": "2023-11-06T19:48:44.342883Z"
    },
    "papermill": {
     "duration": 0.243069,
     "end_time": "2023-11-06T19:48:44.346834",
     "exception": false,
     "start_time": "2023-11-06T19:48:44.103765",
     "status": "completed"
    },
    "tags": []
   },
   "outputs": [
    {
     "data": {
      "image/png": "[encoded data removed]",
      "text/plain": [
       "<Figure size 640x480 with 1 Axes>"
      ]
     },
     "metadata": {},
     "output_type": "display_data"
    }
   ],
   "source": [
    "#show a sample from the data\n",
    "plt.imshow(x_train[0].squeeze(), cmap='gray')\n",
    "plt.show()"
   ]
  },
  {
   "cell_type": "markdown",
   "id": "c09ecf5b",
   "metadata": {
    "papermill": {
     "duration": 0.007018,
     "end_time": "2023-11-06T19:48:44.360309",
     "exception": false,
     "start_time": "2023-11-06T19:48:44.353291",
     "status": "completed"
    },
    "tags": []
   },
   "source": [
    "### Model architecture and training"
   ]
  },
  {
   "cell_type": "code",
   "execution_count": 10,
   "id": "b9a3aea2",
   "metadata": {
    "execution": {
     "iopub.execute_input": "2023-11-06T19:48:44.375057Z",
     "iopub.status.busy": "2023-11-06T19:48:44.374615Z",
     "iopub.status.idle": "2023-11-06T19:48:44.627543Z",
     "shell.execute_reply": "2023-11-06T19:48:44.626461Z"
    },
    "papermill": {
     "duration": 0.269649,
     "end_time": "2023-11-06T19:48:44.636440",
     "exception": false,
     "start_time": "2023-11-06T19:48:44.366791",
     "status": "completed"
    },
    "tags": []
   },
   "outputs": [
    {
     "name": "stdout",
     "output_type": "stream",
     "text": [
      "Model: \"sequential\"\n",
      "_________________________________________________________________\n",
      " Layer (type)                Output Shape              Param #   \n",
      "=================================================================\n",
      " conv2d (Conv2D)             (None, 26, 26, 32)        320       \n",
      "                                                                 \n",
      " max_pooling2d (MaxPooling2D  (None, 13, 13, 32)       0         \n",
      " )                                                               \n",
      "                                                                 \n",
      " dropout (Dropout)           (None, 13, 13, 32)        0         \n",
      "                                                                 \n",
      " conv2d_1 (Conv2D)           (None, 11, 11, 64)        18496     \n",
      "                                                                 \n",
      " max_pooling2d_1 (MaxPooling  (None, 5, 5, 64)         0         \n",
      " 2D)                                                             \n",
      "                                                                 \n",
      " dropout_1 (Dropout)         (None, 5, 5, 64)          0         \n",
      "                                                                 \n",
      " flatten (Flatten)           (None, 1600)              0         \n",
      "                                                                 \n",
      " dense (Dense)               (None, 256)               409856    \n",
      "                                                                 \n",
      " dropout_2 (Dropout)         (None, 256)               0         \n",
      "                                                                 \n",
      " dense_1 (Dense)             (None, 10)                2570      \n",
      "                                                                 \n",
      "=================================================================\n",
      "Total params: 431,242\n",
      "Trainable params: 431,242\n",
      "Non-trainable params: 0\n",
      "_________________________________________________________________\n"
     ]
    }
   ],
   "source": [
    "# Define the model architecture\n",
    "model = Sequential() # creates a new sequential model object\n",
    "\n",
    "# first conovolutional layer\n",
    "model.add(Conv2D(32, (3,3), activation = 'relu', input_shape=(28, 28, 1))) # add a 2D conovolutional layer\n",
    "model.add(MaxPooling2D(pool_size =(2,2)))   # add a 2d max pool of size 2x2\n",
    "model.add(Dropout(0.25))    # drop out ayer that drops randomly 25% of units in pre layer to avoid overfitting\n",
    "\n",
    "# second conovlutional layer\n",
    "model.add(Conv2D(64, (3,3), activation = 'relu'))\n",
    "model.add(MaxPooling2D(pool_size =(2,2)))\n",
    "model.add(Dropout(0.25))\n",
    "\n",
    "\n",
    "model.add(Flatten()) # flatten the layer to 1D array\n",
    "model.add(Dense(256,activation=\"relu\"))\n",
    "model.add(Dropout(0.5))\n",
    "\n",
    "model.add(Dense(10, activation = ('softmax'))) #we used softmax function because it's multi classification\n",
    "\n",
    "model.summary()"
   ]
  },
  {
   "cell_type": "code",
   "execution_count": 11,
   "id": "22271af4",
   "metadata": {
    "execution": {
     "iopub.execute_input": "2023-11-06T19:48:44.654986Z",
     "iopub.status.busy": "2023-11-06T19:48:44.654501Z",
     "iopub.status.idle": "2023-11-06T19:48:44.660362Z",
     "shell.execute_reply": "2023-11-06T19:48:44.659025Z"
    },
    "papermill": {
     "duration": 0.01795,
     "end_time": "2023-11-06T19:48:44.662672",
     "exception": false,
     "start_time": "2023-11-06T19:48:44.644722",
     "status": "completed"
    },
    "tags": []
   },
   "outputs": [],
   "source": [
    "# Define callbacks for early stopping and learning rate reduction\n",
    "from keras.callbacks import EarlyStopping, ReduceLROnPlateau\n",
    "\n",
    "earlystop = EarlyStopping(patience=3)  # stop if validation loss doesn't improve for 3 epochs\n",
    "learning_rate_reduction = ReduceLROnPlateau(monitor='val_acc',\n",
    "                                            patience=3,\n",
    "                                            verbose=1,\n",
    "                                            factor=0.5,\n",
    "                                            min_lr=0.00001)\n",
    "callbacks = [earlystop, learning_rate_reduction]"
   ]
  },
  {
   "cell_type": "code",
   "execution_count": 12,
   "id": "28b001b8",
   "metadata": {
    "execution": {
     "iopub.execute_input": "2023-11-06T19:48:44.680772Z",
     "iopub.status.busy": "2023-11-06T19:48:44.680413Z",
     "iopub.status.idle": "2023-11-06T19:48:44.697528Z",
     "shell.execute_reply": "2023-11-06T19:48:44.696609Z"
    },
    "papermill": {
     "duration": 0.02902,
     "end_time": "2023-11-06T19:48:44.700025",
     "exception": false,
     "start_time": "2023-11-06T19:48:44.671005",
     "status": "completed"
    },
    "tags": []
   },
   "outputs": [],
   "source": [
    "# Compile the model\n",
    "model.compile(optimizer='Adam', loss='categorical_crossentropy', metrics=['accuracy'])"
   ]
  },
  {
   "cell_type": "code",
   "execution_count": 13,
   "id": "23cdd8d0",
   "metadata": {
    "execution": {
     "iopub.execute_input": "2023-11-06T19:48:44.718101Z",
     "iopub.status.busy": "2023-11-06T19:48:44.717712Z",
     "iopub.status.idle": "2023-11-06T19:48:44.804284Z",
     "shell.execute_reply": "2023-11-06T19:48:44.803277Z"
    },
    "papermill": {
     "duration": 0.098406,
     "end_time": "2023-11-06T19:48:44.806781",
     "exception": false,
     "start_time": "2023-11-06T19:48:44.708375",
     "status": "completed"
    },
    "tags": []
   },
   "outputs": [],
   "source": [
    "#define the image generator for performing data augmentation on data during training\n",
    "datagen = ImageDataGenerator(\n",
    "        featurewise_center=False,  # set input mean to 0 over the dataset\n",
    "        samplewise_center=False,  # set each sample mean to 0\n",
    "        featurewise_std_normalization=False,  # divide inputs by std of the dataset\n",
    "        samplewise_std_normalization=False,  # divide each input by its std\n",
    "        zca_whitening=False,  # apply ZCA whitening\n",
    "        rotation_range=10,  # randomly rotate images in the range (degrees, 0 to 180)\n",
    "        zoom_range = 0.1, # Randomly zoom image \n",
    "        width_shift_range=0.1,  # randomly shift images horizontally (fraction of total width)\n",
    "        height_shift_range=0.1,  # randomly shift images vertically (fraction of total height)\n",
    "        horizontal_flip=False,  # randomly flip images\n",
    "        vertical_flip=False)  # randomly flip images\n",
    "\n",
    "\n",
    "datagen.fit(x_train)"
   ]
  },
  {
   "cell_type": "code",
   "execution_count": 14,
   "id": "62338c6a",
   "metadata": {
    "execution": {
     "iopub.execute_input": "2023-11-06T19:48:44.825067Z",
     "iopub.status.busy": "2023-11-06T19:48:44.824673Z",
     "iopub.status.idle": "2023-11-06T19:53:08.117039Z",
     "shell.execute_reply": "2023-11-06T19:53:08.116008Z"
    },
    "papermill": {
     "duration": 263.304383,
     "end_time": "2023-11-06T19:53:08.119633",
     "exception": false,
     "start_time": "2023-11-06T19:48:44.815250",
     "status": "completed"
    },
    "tags": []
   },
   "outputs": [
    {
     "name": "stdout",
     "output_type": "stream",
     "text": [
      "Epoch 1/10\n",
      "840/840 [==============================] - 22s 25ms/step - loss: 0.2970 - accuracy: 0.9043 - val_loss: 0.0758 - val_accuracy: 0.9771 - lr: 0.0010\n",
      "Epoch 2/10\n",
      "840/840 [==============================] - 21s 24ms/step - loss: 0.0991 - accuracy: 0.9694 - val_loss: 0.0628 - val_accuracy: 0.9802 - lr: 0.0010\n",
      "Epoch 3/10\n",
      "840/840 [==============================] - 20s 24ms/step - loss: 0.0792 - accuracy: 0.9757 - val_loss: 0.0414 - val_accuracy: 0.9874 - lr: 0.0010\n",
      "Epoch 4/10\n",
      "840/840 [==============================] - 21s 24ms/step - loss: 0.0628 - accuracy: 0.9815 - val_loss: 0.0400 - val_accuracy: 0.9871 - lr: 0.0010\n",
      "Epoch 5/10\n",
      "840/840 [==============================] - 20s 24ms/step - loss: 0.0560 - accuracy: 0.9818 - val_loss: 0.0347 - val_accuracy: 0.9887 - lr: 0.0010\n",
      "Epoch 6/10\n",
      "840/840 [==============================] - 20s 24ms/step - loss: 0.0491 - accuracy: 0.9843 - val_loss: 0.0308 - val_accuracy: 0.9907 - lr: 0.0010\n",
      "Epoch 7/10\n",
      "840/840 [==============================] - 20s 24ms/step - loss: 0.0462 - accuracy: 0.9861 - val_loss: 0.0302 - val_accuracy: 0.9900 - lr: 0.0010\n",
      "Epoch 8/10\n",
      "840/840 [==============================] - 20s 23ms/step - loss: 0.0411 - accuracy: 0.9874 - val_loss: 0.0275 - val_accuracy: 0.9913 - lr: 0.0010\n",
      "Epoch 9/10\n",
      "840/840 [==============================] - 20s 24ms/step - loss: 0.0378 - accuracy: 0.9883 - val_loss: 0.0296 - val_accuracy: 0.9902 - lr: 0.0010\n",
      "Epoch 10/10\n",
      "840/840 [==============================] - 20s 24ms/step - loss: 0.0380 - accuracy: 0.9883 - val_loss: 0.0264 - val_accuracy: 0.9924 - lr: 0.0010\n"
     ]
    }
   ],
   "source": [
    "# Train the model\n",
    "history = model.fit(x_train,y_train,epochs=10, validation_data=(x_val,y_val), batch_size=40, callbacks=callbacks)"
   ]
  },
  {
   "cell_type": "markdown",
   "id": "ab241653",
   "metadata": {
    "papermill": {
     "duration": 0.186438,
     "end_time": "2023-11-06T19:53:08.491531",
     "exception": false,
     "start_time": "2023-11-06T19:53:08.305093",
     "status": "completed"
    },
    "tags": []
   },
   "source": [
    "### Model evaluation"
   ]
  },
  {
   "cell_type": "code",
   "execution_count": 15,
   "id": "69225671",
   "metadata": {
    "execution": {
     "iopub.execute_input": "2023-11-06T19:53:08.870146Z",
     "iopub.status.busy": "2023-11-06T19:53:08.869741Z",
     "iopub.status.idle": "2023-11-06T19:53:09.385364Z",
     "shell.execute_reply": "2023-11-06T19:53:09.383338Z"
    },
    "papermill": {
     "duration": 0.710407,
     "end_time": "2023-11-06T19:53:09.388042",
     "exception": false,
     "start_time": "2023-11-06T19:53:08.677635",
     "status": "completed"
    },
    "tags": []
   },
   "outputs": [
    {
     "data": {
      "image/png": "[encoded data removed]",
      "text/plain": [
       "<Figure size 640x480 with 1 Axes>"
      ]
     },
     "metadata": {},
     "output_type": "display_data"
    },
    {
     "data": {
      "image/png": "[encoded data removed]",
      "text/plain": [
       "<Figure size 640x480 with 1 Axes>"
      ]
     },
     "metadata": {},
     "output_type": "display_data"
    }
   ],
   "source": [
    "# Plot the accuracy and loss curves\n",
    "acc = history.history['accuracy']\n",
    "val_acc = history.history['val_accuracy']\n",
    "loss = history.history['loss']\n",
    "val_loss = history.history['val_loss']\n",
    "epochs = range(1, len(acc) + 1)\n",
    "\n",
    "plt.plot(epochs, acc, 'bo', label='Training accuracy')\n",
    "plt.plot(epochs, val_acc, 'b', label='Validation accuracy')\n",
    "plt.title('Training and validation accuracy')\n",
    "plt.legend()\n",
    "\n",
    "plt.figure()\n",
    "\n",
    "plt.plot(epochs, loss, 'bo', label='Training loss')\n",
    "plt.plot(epochs, val_loss, 'b', label='Validation loss')\n",
    "plt.title('Training and validation loss')\n",
    "plt.legend()\n",
    "\n",
    "plt.show()"
   ]
  },
  {
   "cell_type": "code",
   "execution_count": 16,
   "id": "e14cdc9c",
   "metadata": {
    "execution": {
     "iopub.execute_input": "2023-11-06T19:53:09.766474Z",
     "iopub.status.busy": "2023-11-06T19:53:09.766090Z",
     "iopub.status.idle": "2023-11-06T19:53:09.773005Z",
     "shell.execute_reply": "2023-11-06T19:53:09.771739Z"
    },
    "papermill": {
     "duration": 0.197516,
     "end_time": "2023-11-06T19:53:09.775350",
     "exception": false,
     "start_time": "2023-11-06T19:53:09.577834",
     "status": "completed"
    },
    "tags": []
   },
   "outputs": [
    {
     "name": "stdout",
     "output_type": "stream",
     "text": [
      "Final Training Loss: 0.0380\n",
      "Final Validation Loss: 0.0264\n",
      "Final Training Accuracy: 0.9883\n",
      "Final Validation Accuracy: 0.9924\n"
     ]
    }
   ],
   "source": [
    "#final scores\n",
    "final_train_loss = loss[-1]\n",
    "final_val_loss = val_loss[-1]\n",
    "final_train_acc = acc[-1]\n",
    "final_val_acc = val_acc[-1]\n",
    "\n",
    "print(f\"Final Training Loss: {final_train_loss:.4f}\")\n",
    "print(f\"Final Validation Loss: {final_val_loss:.4f}\")\n",
    "print(f\"Final Training Accuracy: {final_train_acc:.4f}\")\n",
    "print(f\"Final Validation Accuracy: {final_val_acc:.4f}\")"
   ]
  },
  {
   "cell_type": "code",
   "execution_count": 17,
   "id": "beb246f3",
   "metadata": {
    "execution": {
     "iopub.execute_input": "2023-11-06T19:53:10.154679Z",
     "iopub.status.busy": "2023-11-06T19:53:10.153869Z",
     "iopub.status.idle": "2023-11-06T19:53:15.327104Z",
     "shell.execute_reply": "2023-11-06T19:53:15.325996Z"
    },
    "papermill": {
     "duration": 5.366162,
     "end_time": "2023-11-06T19:53:15.329312",
     "exception": false,
     "start_time": "2023-11-06T19:53:09.963150",
     "status": "completed"
    },
    "tags": []
   },
   "outputs": [
    {
     "name": "stdout",
     "output_type": "stream",
     "text": [
      "875/875 [==============================] - 5s 5ms/step\n",
      "[2 0 9 ... 3 9 2]\n"
     ]
    }
   ],
   "source": [
    "# Make predictions on the test data\n",
    "predictions = model.predict(test)\n",
    "# Get the predicted labels (class indices) for each sample\n",
    "predicted_labels = predictions.argmax(axis=1)\n",
    "# Print the predicted labels\n",
    "print(predicted_labels)"
   ]
  },
  {
   "cell_type": "code",
   "execution_count": 18,
   "id": "37b8bb8b",
   "metadata": {
    "execution": {
     "iopub.execute_input": "2023-11-06T19:53:15.780327Z",
     "iopub.status.busy": "2023-11-06T19:53:15.779204Z",
     "iopub.status.idle": "2023-11-06T19:53:17.197629Z",
     "shell.execute_reply": "2023-11-06T19:53:17.196503Z"
    },
    "papermill": {
     "duration": 1.678678,
     "end_time": "2023-11-06T19:53:17.200017",
     "exception": false,
     "start_time": "2023-11-06T19:53:15.521339",
     "status": "completed"
    },
    "tags": []
   },
   "outputs": [
    {
     "data": {
      "image/png": "[encoded data removed]",
      "text/plain": [
       "<Figure size 640x480 with 1 Axes>"
      ]
     },
     "metadata": {},
     "output_type": "display_data"
    },
    {
     "data": {
      "image/png": "[encoded data removed]",
      "text/plain": [
       "<Figure size 640x480 with 1 Axes>"
      ]
     },
     "metadata": {},
     "output_type": "display_data"
    },
    {
     "data": {
      "image/png": "[encoded data removed]",
      "text/plain": [
       "<Figure size 640x480 with 1 Axes>"
      ]
     },
     "metadata": {},
     "output_type": "display_data"
    },
    {
     "data": {
      "image/png": "[encoded data removed]",
      "text/plain": [
       "<Figure size 640x480 with 1 Axes>"
      ]
     },
     "metadata": {},
     "output_type": "display_data"
    },
    {
     "data": {
      "image/png": "[encoded data removed]",
      "text/plain": [
       "<Figure size 640x480 with 1 Axes>"
      ]
     },
     "metadata": {},
     "output_type": "display_data"
    },
    {
     "data": {
      "image/png": "[encoded data removed]",
      "text/plain": [
       "<Figure size 640x480 with 1 Axes>"
      ]
     },
     "metadata": {},
     "output_type": "display_data"
    },
    {
     "data": {
      "image/png": "[encoded data removed]",
      "text/plain": [
       "<Figure size 640x480 with 1 Axes>"
      ]
     },
     "metadata": {},
     "output_type": "display_data"
    },
    {
     "data": {
      "image/png": "[encoded data removed]",
      "text/plain": [
       "<Figure size 640x480 with 1 Axes>"
      ]
     },
     "metadata": {},
     "output_type": "display_data"
    },
    {
     "data": {
      "image/png": "[encoded data removed]",
      "text/plain": [
       "<Figure size 640x480 with 1 Axes>"
      ]
     },
     "metadata": {},
     "output_type": "display_data"
    },
    {
     "data": {
      "image/png": "[encoded data removed]",
      "text/plain": [
       "<Figure size 640x480 with 1 Axes>"
      ]
     },
     "metadata": {},
     "output_type": "display_data"
    }
   ],
   "source": [
    "#define a function to show images and its predicted output\n",
    "def plot_image(image, predicted_label):\n",
    "    # Reshape the image from a flattened array to its original shape\n",
    "    image = image.reshape((28, 28))\n",
    "    \n",
    "    # Plot the image\n",
    "    plt.imshow(image, cmap='gray')\n",
    "    plt.axis('off')\n",
    "    \n",
    "    # Set the title as the predicted label\n",
    "    plt.title(f\"Predicted Label: {predicted_label}\")\n",
    "    \n",
    "    # Show the plot\n",
    "    plt.show()\n",
    "\n",
    "# Define the number of images to plot\n",
    "num_images_to_plot = 10\n",
    "\n",
    "# Iterate over the test data and plot the images with their predicted labels\n",
    "counter = 0\n",
    "for i in range(len(test)):\n",
    "    if counter >= num_images_to_plot:\n",
    "        break\n",
    "    \n",
    "    image = test[i]  # Get the image data\n",
    "    predicted_label = predicted_labels[i]  # Get the predicted label\n",
    "    \n",
    "    # Plot the image and predicted label\n",
    "    plot_image(image, predicted_label)\n",
    "    \n",
    "    counter += 1"
   ]
  }
 ],
 "metadata": {
  "kernelspec": {
   "display_name": "Python 3",
   "language": "python",
   "name": "python3"
  },
  "language_info": {
   "codemirror_mode": {
    "name": "ipython",
    "version": 3
   },
   "file_extension": ".py",
   "mimetype": "text/x-python",
   "name": "python",
   "nbconvert_exporter": "python",
   "pygments_lexer": "ipython3",
   "version": "3.10.12"
  },
  "papermill": {
   "default_parameters": {},
   "duration": 294.973998,
   "end_time": "2023-11-06T19:53:19.019156",
   "environment_variables": {},
   "exception": null,
   "input_path": "__notebook__.ipynb",
   "output_path": "__notebook__.ipynb",
   "parameters": {},
   "start_time": "2023-11-06T19:48:24.045158",
   "version": "2.4.0"
  }
 },
 "nbformat": 4,
 "nbformat_minor": 5
}
